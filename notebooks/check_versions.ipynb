{
 "cells": [
  {
   "cell_type": "code",
   "execution_count": 1,
   "metadata": {},
   "outputs": [
    {
     "name": "stdout",
     "output_type": "stream",
     "text": [
      "\u001b[32mnumexpr.utils - Note: NumExpr detected 56 cores but \"NUMEXPR_MAX_THREADS\" not set, so enforcing safe limit of 16.\u001b[0m\n",
      "\u001b[32mnumexpr.utils - NumExpr defaulting to 16 threads.\u001b[0m\n"
     ]
    }
   ],
   "source": [
    "from platform import python_version\n",
    "import proper as pr\n",
    "import scopesim as ss\n",
    "import numpy as np\n",
    "import scipy as sp\n",
    "import matplotlib as ml\n",
    "import vip_hci as vh\n",
    "import photutils as pu\n",
    "import astropy as ap\n",
    "import skimage as si"
   ]
  },
  {
   "cell_type": "code",
   "execution_count": 3,
   "metadata": {},
   "outputs": [
    {
     "name": "stdout",
     "output_type": "stream",
     "text": [
      "python v3.12.7\n",
      "proper v3.3.3\n",
      "scopesim v0.10.0\n",
      "numpy v1.26.4\n",
      "scipy v1.15.0\n",
      "matplotlib v3.10.6\n",
      "vip_hci v1.6.2\n",
      "photutils v2.1.0\n",
      "astropy v6.1.7\n",
      "skimage v0.24.0\n"
     ]
    }
   ],
   "source": [
    "print('python v%s'%python_version())\n",
    "for module in [pr, ss, np, sp, ml, vh, pu, ap, si]:\n",
    "    print('%s v%s'%(module.__name__, module.__version__))"
   ]
  }
 ],
 "metadata": {
  "kernelspec": {
   "display_name": "base-lite",
   "language": "python",
   "name": "python3"
  },
  "language_info": {
   "codemirror_mode": {
    "name": "ipython",
    "version": 3
   },
   "file_extension": ".py",
   "mimetype": "text/x-python",
   "name": "python",
   "nbconvert_exporter": "python",
   "pygments_lexer": "ipython3",
   "version": "3.12.7"
  },
  "orig_nbformat": 4
 },
 "nbformat": 4,
 "nbformat_minor": 2
}
